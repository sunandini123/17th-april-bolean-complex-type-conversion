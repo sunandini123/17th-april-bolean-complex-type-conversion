{
 "cells": [
  {
   "cell_type": "markdown",
   "id": "08195365-7f73-42bc-b12f-c00c6a5dc0d8",
   "metadata": {},
   "source": [
    "# 17th April - BOlean, complex, type conversion/casting"
   ]
  },
  {
   "cell_type": "code",
   "execution_count": 2,
   "id": "7bbe5349-0338-4e0b-af81-98277c425cbc",
   "metadata": {},
   "outputs": [
    {
     "ename": "NameError",
     "evalue": "name 's' is not defined",
     "output_type": "error",
     "traceback": [
      "\u001b[0;31m---------------------------------------------------------------------------\u001b[0m",
      "\u001b[0;31mNameError\u001b[0m                                 Traceback (most recent call last)",
      "Cell \u001b[0;32mIn[2], line 2\u001b[0m\n\u001b[1;32m      1\u001b[0m S\u001b[38;5;241m=\u001b[39m\u001b[38;5;28;01mTrue\u001b[39;00m\n\u001b[0;32m----> 2\u001b[0m s\n",
      "\u001b[0;31mNameError\u001b[0m: name 's' is not defined"
     ]
    }
   ],
   "source": [
    "S=True\n",
    "s"
   ]
  },
  {
   "cell_type": "code",
   "execution_count": 4,
   "id": "5f18599f-9a04-41b7-9e90-38dd12578b39",
   "metadata": {},
   "outputs": [
    {
     "data": {
      "text/plain": [
       "True"
      ]
     },
     "execution_count": 4,
     "metadata": {},
     "output_type": "execute_result"
    }
   ],
   "source": [
    "True"
   ]
  },
  {
   "cell_type": "code",
   "execution_count": 47,
   "id": "decd9c8d-df24-481f-ab45-11352e3607e2",
   "metadata": {},
   "outputs": [
    {
     "data": {
      "text/plain": [
       "True"
      ]
     },
     "execution_count": 47,
     "metadata": {},
     "output_type": "execute_result"
    }
   ],
   "source": [
    "s=True\n",
    "s"
   ]
  },
  {
   "cell_type": "code",
   "execution_count": 49,
   "id": "51920063-cac1-4c42-aad9-7d065d0a8c88",
   "metadata": {},
   "outputs": [
    {
     "ename": "SyntaxError",
     "evalue": "cannot assign to True (65981213.py, line 1)",
     "output_type": "error",
     "traceback": [
      "\u001b[0;36m  Cell \u001b[0;32mIn[49], line 1\u001b[0;36m\u001b[0m\n\u001b[0;31m    True=2\u001b[0m\n\u001b[0m    ^\u001b[0m\n\u001b[0;31mSyntaxError\u001b[0m\u001b[0;31m:\u001b[0m cannot assign to True\n"
     ]
    }
   ],
   "source": [
    "True=2\n",
    "True"
   ]
  },
  {
   "cell_type": "code",
   "execution_count": 6,
   "id": "d16c5389-f866-4eaa-89fe-c3e96cf245f4",
   "metadata": {},
   "outputs": [
    {
     "ename": "NameError",
     "evalue": "name 'true' is not defined",
     "output_type": "error",
     "traceback": [
      "\u001b[0;31m---------------------------------------------------------------------------\u001b[0m",
      "\u001b[0;31mNameError\u001b[0m                                 Traceback (most recent call last)",
      "Cell \u001b[0;32mIn[6], line 1\u001b[0m\n\u001b[0;32m----> 1\u001b[0m true\n",
      "\u001b[0;31mNameError\u001b[0m: name 'true' is not defined"
     ]
    }
   ],
   "source": [
    "true"
   ]
  },
  {
   "cell_type": "code",
   "execution_count": 51,
   "id": "60fa24a0-08ea-4334-8d54-41c9e773a12d",
   "metadata": {},
   "outputs": [
    {
     "ename": "NameError",
     "evalue": "name 'sghsas' is not defined",
     "output_type": "error",
     "traceback": [
      "\u001b[0;31m---------------------------------------------------------------------------\u001b[0m",
      "\u001b[0;31mNameError\u001b[0m                                 Traceback (most recent call last)",
      "Cell \u001b[0;32mIn[51], line 1\u001b[0m\n\u001b[0;32m----> 1\u001b[0m sghsas\n",
      "\u001b[0;31mNameError\u001b[0m: name 'sghsas' is not defined"
     ]
    }
   ],
   "source": [
    "sghsas"
   ]
  },
  {
   "cell_type": "code",
   "execution_count": 8,
   "id": "942572df-2bf5-4397-92d1-0a0d84d6135d",
   "metadata": {},
   "outputs": [
    {
     "data": {
      "text/plain": [
       "False"
      ]
     },
     "execution_count": 8,
     "metadata": {},
     "output_type": "execute_result"
    }
   ],
   "source": [
    "False"
   ]
  },
  {
   "cell_type": "code",
   "execution_count": 10,
   "id": "a57e4a99-4d17-4c8a-bb7d-9d9b68e961d9",
   "metadata": {},
   "outputs": [
    {
     "ename": "NameError",
     "evalue": "name 'false' is not defined",
     "output_type": "error",
     "traceback": [
      "\u001b[0;31m---------------------------------------------------------------------------\u001b[0m",
      "\u001b[0;31mNameError\u001b[0m                                 Traceback (most recent call last)",
      "Cell \u001b[0;32mIn[10], line 1\u001b[0m\n\u001b[0;32m----> 1\u001b[0m false\n",
      "\u001b[0;31mNameError\u001b[0m: name 'false' is not defined"
     ]
    }
   ],
   "source": [
    "false"
   ]
  },
  {
   "cell_type": "code",
   "execution_count": 18,
   "id": "08a7dca3-64d9-489c-bebd-03903b643146",
   "metadata": {},
   "outputs": [],
   "source": [
    "b=True\n",
    "b1=False\n"
   ]
  },
  {
   "cell_type": "code",
   "execution_count": 20,
   "id": "9547f3b6-89d6-43b0-8c67-8ffad902f615",
   "metadata": {},
   "outputs": [
    {
     "data": {
      "text/plain": [
       "True"
      ]
     },
     "execution_count": 20,
     "metadata": {},
     "output_type": "execute_result"
    }
   ],
   "source": [
    "b"
   ]
  },
  {
   "cell_type": "code",
   "execution_count": 22,
   "id": "2a7c10fd-3fbf-467f-af37-d8785448d8c1",
   "metadata": {},
   "outputs": [
    {
     "data": {
      "text/plain": [
       "False"
      ]
     },
     "execution_count": 22,
     "metadata": {},
     "output_type": "execute_result"
    }
   ],
   "source": [
    "b1\n"
   ]
  },
  {
   "cell_type": "code",
   "execution_count": 24,
   "id": "d443b3ce-209a-45cc-9091-45f5a509f423",
   "metadata": {},
   "outputs": [
    {
     "data": {
      "text/plain": [
       "1"
      ]
     },
     "execution_count": 24,
     "metadata": {},
     "output_type": "execute_result"
    }
   ],
   "source": [
    "b+b1"
   ]
  },
  {
   "cell_type": "code",
   "execution_count": 26,
   "id": "5bab43f0-5d5c-47c8-87e2-41e3f1956cf7",
   "metadata": {},
   "outputs": [
    {
     "data": {
      "text/plain": [
       "1"
      ]
     },
     "execution_count": 26,
     "metadata": {},
     "output_type": "execute_result"
    }
   ],
   "source": [
    "b-b1"
   ]
  },
  {
   "cell_type": "code",
   "execution_count": 28,
   "id": "4d5e2008-9a22-41f7-8db5-8d2a1002db71",
   "metadata": {},
   "outputs": [
    {
     "data": {
      "text/plain": [
       "1"
      ]
     },
     "execution_count": 28,
     "metadata": {},
     "output_type": "execute_result"
    }
   ],
   "source": [
    "b*b1\n",
    "b-b1\n",
    "b+b1\n"
   ]
  },
  {
   "cell_type": "code",
   "execution_count": 30,
   "id": "2899bcd9-717e-42e9-9ad6-60687bec2855",
   "metadata": {},
   "outputs": [
    {
     "name": "stdout",
     "output_type": "stream",
     "text": [
      "0\n",
      "1\n"
     ]
    },
    {
     "ename": "ZeroDivisionError",
     "evalue": "division by zero",
     "output_type": "error",
     "traceback": [
      "\u001b[0;31m---------------------------------------------------------------------------\u001b[0m",
      "\u001b[0;31mZeroDivisionError\u001b[0m                         Traceback (most recent call last)",
      "Cell \u001b[0;32mIn[30], line 3\u001b[0m\n\u001b[1;32m      1\u001b[0m \u001b[38;5;28mprint\u001b[39m(b\u001b[38;5;241m*\u001b[39mb1)\n\u001b[1;32m      2\u001b[0m \u001b[38;5;28mprint\u001b[39m(b\u001b[38;5;241m-\u001b[39mb1)\n\u001b[0;32m----> 3\u001b[0m \u001b[38;5;28mprint\u001b[39m(b\u001b[38;5;241m/\u001b[39mb1)\n",
      "\u001b[0;31mZeroDivisionError\u001b[0m: division by zero"
     ]
    }
   ],
   "source": [
    "print(b*b1)\n",
    "print(b-b1)\n",
    "print(b/b1)"
   ]
  },
  {
   "cell_type": "code",
   "execution_count": 32,
   "id": "e459b40b-6654-4c99-a998-d83c66cb7a56",
   "metadata": {},
   "outputs": [
    {
     "name": "stdout",
     "output_type": "stream",
     "text": [
      "0.0\n"
     ]
    }
   ],
   "source": [
    "print(b1/b)"
   ]
  },
  {
   "cell_type": "code",
   "execution_count": 35,
   "id": "d2247541-7408-40f5-9cb0-baaa073dca08",
   "metadata": {},
   "outputs": [
    {
     "ename": "NameError",
     "evalue": "name 'PRINT' is not defined",
     "output_type": "error",
     "traceback": [
      "\u001b[0;31m---------------------------------------------------------------------------\u001b[0m",
      "\u001b[0;31mNameError\u001b[0m                                 Traceback (most recent call last)",
      "Cell \u001b[0;32mIn[35], line 1\u001b[0m\n\u001b[0;32m----> 1\u001b[0m PRINT(B1\u001b[38;5;241m/\u001b[39m\u001b[38;5;241m/\u001b[39mB)\n",
      "\u001b[0;31mNameError\u001b[0m: name 'PRINT' is not defined"
     ]
    }
   ],
   "source": [
    "PRINT(B1//B)"
   ]
  },
  {
   "cell_type": "code",
   "execution_count": 37,
   "id": "812335e3-aa2a-4220-b9cc-5e7a6418ec2c",
   "metadata": {},
   "outputs": [
    {
     "name": "stdout",
     "output_type": "stream",
     "text": [
      "0\n"
     ]
    }
   ],
   "source": [
    "print(b1//b)"
   ]
  },
  {
   "cell_type": "code",
   "execution_count": 41,
   "id": "5a33469c-7c00-4fc3-9cc0-9caf6c55b127",
   "metadata": {},
   "outputs": [
    {
     "data": {
      "text/plain": [
       "bool"
      ]
     },
     "execution_count": 41,
     "metadata": {},
     "output_type": "execute_result"
    }
   ],
   "source": [
    "type(b)"
   ]
  },
  {
   "cell_type": "markdown",
   "id": "1638831d-0947-409b-8776-1e04aad5a209",
   "metadata": {},
   "source": [
    "# END OF BOLEAN "
   ]
  },
  {
   "cell_type": "markdown",
   "id": "579e1b66-c34c-4231-ae56-3b6a80390825",
   "metadata": {},
   "source": [
    "# COMPLEX "
   ]
  },
  {
   "cell_type": "code",
   "execution_count": null,
   "id": "a5cfba0a-f4d9-4212-b247-056ad485868b",
   "metadata": {},
   "outputs": [],
   "source": [
    "a+bj \n",
    "\n",
    "a= real part \n",
    "b= imaginary part\n",
    "j=square root of -1"
   ]
  },
  {
   "cell_type": "code",
   "execution_count": 43,
   "id": "1071cca2-1b29-4da4-a40d-7beeff0b3b88",
   "metadata": {},
   "outputs": [
    {
     "data": {
      "text/plain": [
       "(10+2j)"
      ]
     },
     "execution_count": 43,
     "metadata": {},
     "output_type": "execute_result"
    }
   ],
   "source": [
    "c1=10+2j\n",
    "c1"
   ]
  },
  {
   "cell_type": "code",
   "execution_count": 45,
   "id": "9829bf49-3cba-40a0-89b6-f0382e9822f0",
   "metadata": {},
   "outputs": [
    {
     "data": {
      "text/plain": [
       "complex"
      ]
     },
     "execution_count": 45,
     "metadata": {},
     "output_type": "execute_result"
    }
   ],
   "source": [
    "type(c1)"
   ]
  },
  {
   "cell_type": "code",
   "execution_count": 53,
   "id": "75d85281-9ae9-4696-86f7-f7b8bb4a33cf",
   "metadata": {},
   "outputs": [
    {
     "data": {
      "text/plain": [
       "10.0"
      ]
     },
     "execution_count": 53,
     "metadata": {},
     "output_type": "execute_result"
    }
   ],
   "source": [
    "c1.real"
   ]
  },
  {
   "cell_type": "code",
   "execution_count": 55,
   "id": "68996fdc-35f3-41f3-8a4e-d4b3db6a1111",
   "metadata": {},
   "outputs": [
    {
     "ename": "AttributeError",
     "evalue": "'complex' object has no attribute 'imaginary'",
     "output_type": "error",
     "traceback": [
      "\u001b[0;31m---------------------------------------------------------------------------\u001b[0m",
      "\u001b[0;31mAttributeError\u001b[0m                            Traceback (most recent call last)",
      "Cell \u001b[0;32mIn[55], line 1\u001b[0m\n\u001b[0;32m----> 1\u001b[0m c1\u001b[38;5;241m.\u001b[39mimaginary\n",
      "\u001b[0;31mAttributeError\u001b[0m: 'complex' object has no attribute 'imaginary'"
     ]
    }
   ],
   "source": [
    "c1.imaginary"
   ]
  },
  {
   "cell_type": "code",
   "execution_count": 57,
   "id": "77742035-50ef-4327-902f-d89596d1f2f1",
   "metadata": {},
   "outputs": [
    {
     "data": {
      "text/plain": [
       "2.0"
      ]
     },
     "execution_count": 57,
     "metadata": {},
     "output_type": "execute_result"
    }
   ],
   "source": [
    "c1.imag"
   ]
  },
  {
   "cell_type": "code",
   "execution_count": 59,
   "id": "728433e8-f0c9-4d35-94c6-92a235d15fb0",
   "metadata": {},
   "outputs": [
    {
     "ename": "SyntaxError",
     "evalue": "invalid decimal literal (762431922.py, line 1)",
     "output_type": "error",
     "traceback": [
      "\u001b[0;36m  Cell \u001b[0;32mIn[59], line 1\u001b[0;36m\u001b[0m\n\u001b[0;31m    c1=2+3b\u001b[0m\n\u001b[0m         ^\u001b[0m\n\u001b[0;31mSyntaxError\u001b[0m\u001b[0;31m:\u001b[0m invalid decimal literal\n"
     ]
    }
   ],
   "source": [
    "c1=2+3b"
   ]
  },
  {
   "cell_type": "code",
   "execution_count": 63,
   "id": "52ae6974-a646-4a29-8fb1-519c5116f45a",
   "metadata": {},
   "outputs": [
    {
     "data": {
      "text/plain": [
       "(2+3j)"
      ]
     },
     "execution_count": 63,
     "metadata": {},
     "output_type": "execute_result"
    }
   ],
   "source": [
    "c1=2+3j\n",
    "c1"
   ]
  },
  {
   "cell_type": "code",
   "execution_count": 65,
   "id": "ed8aa4b8-7788-441f-b3f5-3e147c26eabc",
   "metadata": {},
   "outputs": [
    {
     "data": {
      "text/plain": [
       "(5+6j)"
      ]
     },
     "execution_count": 65,
     "metadata": {},
     "output_type": "execute_result"
    }
   ],
   "source": [
    "c2=5+6j\n",
    "c2"
   ]
  },
  {
   "cell_type": "code",
   "execution_count": 67,
   "id": "eef0c2b0-04f8-486c-b583-d5f136b0a0cd",
   "metadata": {},
   "outputs": [
    {
     "name": "stdout",
     "output_type": "stream",
     "text": [
      "(7+9j)\n"
     ]
    }
   ],
   "source": [
    "print(c1+c2)"
   ]
  },
  {
   "cell_type": "code",
   "execution_count": 69,
   "id": "016bc5d3-277f-4771-82ee-ea774943cd99",
   "metadata": {},
   "outputs": [
    {
     "data": {
      "text/plain": [
       "(7+9j)"
      ]
     },
     "execution_count": 69,
     "metadata": {},
     "output_type": "execute_result"
    }
   ],
   "source": [
    "c1+c2"
   ]
  },
  {
   "cell_type": "markdown",
   "id": "c3527a14-c316-4be7-9d19-f9ae9130530c",
   "metadata": {},
   "source": [
    "# TYPE CAST OR TYPE CONVERSION"
   ]
  },
  {
   "cell_type": "code",
   "execution_count": 72,
   "id": "ea78c6e3-4569-4fa5-a587-703adf1c21c9",
   "metadata": {},
   "outputs": [
    {
     "data": {
      "text/plain": [
       "3"
      ]
     },
     "execution_count": 72,
     "metadata": {},
     "output_type": "execute_result"
    }
   ],
   "source": [
    "int(3.4)"
   ]
  },
  {
   "cell_type": "code",
   "execution_count": 75,
   "id": "fab71d33-255a-4ed7-a7c4-26d790565bdd",
   "metadata": {},
   "outputs": [
    {
     "data": {
      "text/plain": [
       "9.0"
      ]
     },
     "execution_count": 75,
     "metadata": {},
     "output_type": "execute_result"
    }
   ],
   "source": [
    "float(9)"
   ]
  },
  {
   "cell_type": "code",
   "execution_count": 77,
   "id": "8c29e58f-a308-494f-b67d-e70825a02a4b",
   "metadata": {},
   "outputs": [
    {
     "ename": "TypeError",
     "evalue": "'float' object cannot be interpreted as an integer",
     "output_type": "error",
     "traceback": [
      "\u001b[0;31m---------------------------------------------------------------------------\u001b[0m",
      "\u001b[0;31mTypeError\u001b[0m                                 Traceback (most recent call last)",
      "Cell \u001b[0;32mIn[77], line 1\u001b[0m\n\u001b[0;32m----> 1\u001b[0m \u001b[38;5;28mint\u001b[39m(\u001b[38;5;241m3.4\u001b[39m,\u001b[38;5;241m5.7\u001b[39m)\n",
      "\u001b[0;31mTypeError\u001b[0m: 'float' object cannot be interpreted as an integer"
     ]
    }
   ],
   "source": [
    "int(3.4,5.7)"
   ]
  },
  {
   "cell_type": "code",
   "execution_count": null,
   "id": "cc2ced88-2ade-4951-83d4-2ae9a50352cf",
   "metadata": {},
   "outputs": [],
   "source": [
    "In type casting only one argument allowed."
   ]
  },
  {
   "cell_type": "code",
   "execution_count": 79,
   "id": "ba75fb35-4654-4b42-8d15-4d8c92c0b06c",
   "metadata": {},
   "outputs": [
    {
     "ename": "NameError",
     "evalue": "name 'true' is not defined",
     "output_type": "error",
     "traceback": [
      "\u001b[0;31m---------------------------------------------------------------------------\u001b[0m",
      "\u001b[0;31mNameError\u001b[0m                                 Traceback (most recent call last)",
      "Cell \u001b[0;32mIn[79], line 1\u001b[0m\n\u001b[0;32m----> 1\u001b[0m \u001b[38;5;28mint\u001b[39m(true)\n",
      "\u001b[0;31mNameError\u001b[0m: name 'true' is not defined"
     ]
    }
   ],
   "source": [
    "int(true)"
   ]
  },
  {
   "cell_type": "code",
   "execution_count": 81,
   "id": "0cf0ad90-701a-40a4-8669-992062756f91",
   "metadata": {},
   "outputs": [
    {
     "data": {
      "text/plain": [
       "1"
      ]
     },
     "execution_count": 81,
     "metadata": {},
     "output_type": "execute_result"
    }
   ],
   "source": [
    "int(True) #bool to int"
   ]
  },
  {
   "cell_type": "code",
   "execution_count": 83,
   "id": "17323fb8-9e74-4203-8389-78cfab559be5",
   "metadata": {},
   "outputs": [
    {
     "data": {
      "text/plain": [
       "1"
      ]
     },
     "execution_count": 83,
     "metadata": {},
     "output_type": "execute_result"
    }
   ],
   "source": [
    "int(4.5)\n",
    "int(True)"
   ]
  },
  {
   "cell_type": "code",
   "execution_count": 85,
   "id": "c271c2d0-fb3c-4179-b4d2-cc96cc31acde",
   "metadata": {},
   "outputs": [
    {
     "name": "stdout",
     "output_type": "stream",
     "text": [
      "3\n",
      "1\n"
     ]
    }
   ],
   "source": [
    "print(int(3.4))\n",
    "print(int(True))"
   ]
  },
  {
   "cell_type": "code",
   "execution_count": 87,
   "id": "2fbad47e-a3ad-4f34-937d-d1b7348a0798",
   "metadata": {},
   "outputs": [
    {
     "ename": "NameError",
     "evalue": "name 'j' is not defined",
     "output_type": "error",
     "traceback": [
      "\u001b[0;31m---------------------------------------------------------------------------\u001b[0m",
      "\u001b[0;31mNameError\u001b[0m                                 Traceback (most recent call last)",
      "Cell \u001b[0;32mIn[87], line 1\u001b[0m\n\u001b[0;32m----> 1\u001b[0m \u001b[38;5;28mint\u001b[39m(j)\n",
      "\u001b[0;31mNameError\u001b[0m: name 'j' is not defined"
     ]
    }
   ],
   "source": [
    "int(j)"
   ]
  },
  {
   "cell_type": "code",
   "execution_count": 89,
   "id": "7e272d2e-2ddd-45b5-b993-27a683bb939a",
   "metadata": {},
   "outputs": [
    {
     "ename": "TypeError",
     "evalue": "int() argument must be a string, a bytes-like object or a real number, not 'complex'",
     "output_type": "error",
     "traceback": [
      "\u001b[0;31m---------------------------------------------------------------------------\u001b[0m",
      "\u001b[0;31mTypeError\u001b[0m                                 Traceback (most recent call last)",
      "Cell \u001b[0;32mIn[89], line 1\u001b[0m\n\u001b[0;32m----> 1\u001b[0m \u001b[38;5;28mint\u001b[39m(\u001b[38;5;241m10\u001b[39m\u001b[38;5;241m+\u001b[39m\u001b[38;5;241m3\u001b[39mj)\n",
      "\u001b[0;31mTypeError\u001b[0m: int() argument must be a string, a bytes-like object or a real number, not 'complex'"
     ]
    }
   ],
   "source": [
    "int(10+3j)"
   ]
  },
  {
   "cell_type": "code",
   "execution_count": 91,
   "id": "19de496b-37f3-4c49-898d-b5ec3977fd2a",
   "metadata": {},
   "outputs": [
    {
     "ename": "ValueError",
     "evalue": "invalid literal for int() with base 10: 'ten'",
     "output_type": "error",
     "traceback": [
      "\u001b[0;31m---------------------------------------------------------------------------\u001b[0m",
      "\u001b[0;31mValueError\u001b[0m                                Traceback (most recent call last)",
      "Cell \u001b[0;32mIn[91], line 1\u001b[0m\n\u001b[0;32m----> 1\u001b[0m \u001b[38;5;28mint\u001b[39m(\u001b[38;5;124m'\u001b[39m\u001b[38;5;124mten\u001b[39m\u001b[38;5;124m'\u001b[39m)\n",
      "\u001b[0;31mValueError\u001b[0m: invalid literal for int() with base 10: 'ten'"
     ]
    }
   ],
   "source": [
    "int('ten')"
   ]
  },
  {
   "cell_type": "code",
   "execution_count": null,
   "id": "a1564bbc-3688-456b-ba5b-fc263c819fee",
   "metadata": {},
   "outputs": [],
   "source": [
    "From all other data (float, bolean, string) types to int possible except complex"
   ]
  },
  {
   "cell_type": "code",
   "execution_count": null,
   "id": "d9ddc698-d753-4cab-9412-22f3a34aa147",
   "metadata": {},
   "outputs": [],
   "source": [
    "In string only string with numbers allowed not string with text "
   ]
  },
  {
   "cell_type": "code",
   "execution_count": 93,
   "id": "37f5f9fa-1cea-4204-a053-6968fa17d0e5",
   "metadata": {},
   "outputs": [
    {
     "name": "stdout",
     "output_type": "stream",
     "text": [
      "hello world\n"
     ]
    }
   ],
   "source": [
    "print(\"hello world\")"
   ]
  },
  {
   "cell_type": "code",
   "execution_count": null,
   "id": "0710e9b4-7062-4e89-8477-44b5778e9cd4",
   "metadata": {},
   "outputs": [],
   "source": []
  }
 ],
 "metadata": {
  "kernelspec": {
   "display_name": "Python [conda env:base] *",
   "language": "python",
   "name": "conda-base-py"
  },
  "language_info": {
   "codemirror_mode": {
    "name": "ipython",
    "version": 3
   },
   "file_extension": ".py",
   "mimetype": "text/x-python",
   "name": "python",
   "nbconvert_exporter": "python",
   "pygments_lexer": "ipython3",
   "version": "3.12.7"
  }
 },
 "nbformat": 4,
 "nbformat_minor": 5
}
